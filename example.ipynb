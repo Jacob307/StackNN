{
 "cells": [
  {
   "cell_type": "markdown",
   "metadata": {},
   "source": [
    "# StackNN Example Script\n",
    "\n",
    "Here's how to run a StackNN experiment. The ```tasks``` package has classes that contain code for running experiments on various tasks. The ```configs``` module contains some dicts with configurations for the tasks. Let's start by importing a task and a config dict."
   ]
  },
  {
   "cell_type": "code",
   "execution_count": 1,
   "metadata": {
    "collapsed": true
   },
   "outputs": [],
   "source": [
    "from tasks import ReverseTask\n",
    "from configs import final_reverse_config"
   ]
  },
  {
   "cell_type": "markdown",
   "metadata": {},
   "source": [
    "The config dict includes a ```task``` element containing the task it's meant to be used with. Here we can go ahead and delete it. We can also change some of the other items in the config dict in order to customize the hyperparameters of the experiment. Then, we instantiate a ```ReverseTask``` object with the config dict as keyword arguments. Don't worry if you get a warning when the ```ReverseTask``` object is instantiated."
   ]
  },
  {
   "cell_type": "code",
   "execution_count": 2,
   "metadata": {
    "collapsed": false
   },
   "outputs": [
    {
     "name": "stderr",
     "output_type": "stream",
     "text": [
      "stacknn_utils/errors.py:22: RuntimeWarning: Parameter hidden_size is set to 10, but it is not used in LinearSimpleStructController.\n",
      "  warnings.warn(msg, RuntimeWarning)\n",
      "stacknn_utils/errors.py:22: RuntimeWarning: Parameter reg_weight is set to 1.0, but it is not used in LinearSimpleStructController.\n",
      "  warnings.warn(msg, RuntimeWarning)\n"
     ]
    }
   ],
   "source": [
    "if \"task\" in final_reverse_config:\n",
    "    del final_reverse_config[\"task\"]\n",
    "final_reverse_config[\"epochs\"] = 30\n",
    "task = ReverseTask(**final_reverse_config)"
   ]
  },
  {
   "cell_type": "markdown",
   "metadata": {},
   "source": [
    "Now, just call ```run_experiment()```!"
   ]
  },
  {
   "cell_type": "code",
   "execution_count": 3,
   "metadata": {
    "collapsed": false
   },
   "outputs": [
    {
     "name": "stdout",
     "output_type": "stream",
     "text": [
      "Starting ReverseTask Experiment\n",
      "Model Type: VanillaModel\n",
      "Controller Type: LinearSimpleStructController\n",
      "Struct Type: Stack\n",
      "Learning Rate: 0.01\n",
      "Batch Size: 10\n",
      "Read Size: 2\n",
      "\n",
      "-- Epoch 0 of 29 --\n",
      "\n",
      "Batch 9: Loss = 16.5721, Accuracy = 55.0%\n",
      "Batch 19: Loss = 14.8120, Accuracy = 47.3%\n",
      "Batch 29: Loss = 12.0027, Accuracy = 45.1%\n",
      "Batch 39: Loss = 12.9525, Accuracy = 63.2%\n",
      "Batch 49: Loss = 13.3291, Accuracy = 53.1%\n",
      "Batch 59: Loss = 13.0864, Accuracy = 46.7%\n",
      "Batch 69: Loss = 13.6846, Accuracy = 59.1%\n",
      "Batch 79: Loss = 12.0695, Accuracy = 58.6%\n",
      "Epoch 0 Test: Loss = 14.1365, Accuracy = 57.0%\n",
      "\n",
      "-- Epoch 1 of 29 --\n",
      "\n",
      "Batch 9: Loss = 12.0189, Accuracy = 58.0%\n",
      "Batch 19: Loss = 12.0124, Accuracy = 47.5%\n",
      "Batch 29: Loss = 12.6442, Accuracy = 56.7%\n",
      "Batch 39: Loss = 13.5901, Accuracy = 62.1%\n",
      "Batch 49: Loss = 11.9209, Accuracy = 60.0%\n",
      "Batch 59: Loss = 10.3251, Accuracy = 51.3%\n",
      "Batch 69: Loss = 12.3555, Accuracy = 64.5%\n",
      "Batch 79: Loss = 11.7137, Accuracy = 55.4%\n",
      "Epoch 1 Test: Loss = 13.6101, Accuracy = 58.1%\n",
      "\n",
      "-- Epoch 2 of 29 --\n",
      "\n",
      "Batch 9: Loss = 12.3107, Accuracy = 52.2%\n",
      "Batch 19: Loss = 11.0944, Accuracy = 49.5%\n",
      "Batch 29: Loss = 12.7338, Accuracy = 63.6%\n",
      "Batch 39: Loss = 12.2290, Accuracy = 65.2%\n",
      "Batch 49: Loss = 9.5749, Accuracy = 58.1%\n",
      "Batch 59: Loss = 10.8042, Accuracy = 78.4%\n",
      "Batch 69: Loss = 10.1240, Accuracy = 80.0%\n",
      "Batch 79: Loss = 11.8681, Accuracy = 84.4%\n",
      "Epoch 2 Test: Loss = 12.0231, Accuracy = 84.7%\n",
      "\n",
      "-- Epoch 3 of 29 --\n",
      "\n",
      "Batch 9: Loss = 10.4831, Accuracy = 69.1%\n",
      "Batch 19: Loss = 10.0900, Accuracy = 87.8%\n",
      "Batch 29: Loss = 9.0058, Accuracy = 92.5%\n",
      "Batch 39: Loss = 8.9176, Accuracy = 87.6%\n",
      "Batch 49: Loss = 7.8841, Accuracy = 90.6%\n",
      "Batch 59: Loss = 7.0838, Accuracy = 100.0%\n",
      "Batch 69: Loss = 6.8678, Accuracy = 100.0%\n",
      "Batch 79: Loss = 6.1741, Accuracy = 97.9%\n",
      "Epoch 3 Test: Loss = 7.6481, Accuracy = 98.7%\n",
      "\n",
      "-- Epoch 4 of 29 --\n",
      "\n",
      "Batch 9: Loss = 6.2138, Accuracy = 100.0%\n",
      "Batch 19: Loss = 6.3151, Accuracy = 100.0%\n",
      "Batch 29: Loss = 4.9826, Accuracy = 100.0%\n",
      "Batch 39: Loss = 5.0989, Accuracy = 100.0%\n",
      "Batch 49: Loss = 3.9294, Accuracy = 100.0%\n",
      "Batch 59: Loss = 3.6458, Accuracy = 100.0%\n",
      "Batch 69: Loss = 3.3670, Accuracy = 100.0%\n",
      "Batch 79: Loss = 2.9836, Accuracy = 100.0%\n",
      "Epoch 4 Test: Loss = 3.3319, Accuracy = 100.0%\n",
      "\n",
      "-- Epoch 5 of 29 --\n",
      "\n",
      "Batch 9: Loss = 2.4584, Accuracy = 100.0%\n",
      "Batch 19: Loss = 2.2933, Accuracy = 100.0%\n",
      "Batch 29: Loss = 2.0608, Accuracy = 100.0%\n",
      "Batch 39: Loss = 2.1089, Accuracy = 100.0%\n",
      "Batch 49: Loss = 1.6029, Accuracy = 100.0%\n",
      "Batch 59: Loss = 1.5495, Accuracy = 100.0%\n",
      "Batch 69: Loss = 1.5278, Accuracy = 100.0%\n",
      "Batch 79: Loss = 1.5478, Accuracy = 100.0%\n",
      "Epoch 5 Test: Loss = 1.6151, Accuracy = 100.0%\n",
      "\n",
      "-- Epoch 6 of 29 --\n",
      "\n",
      "Batch 9: Loss = 1.3622, Accuracy = 100.0%\n",
      "Batch 19: Loss = 1.1241, Accuracy = 100.0%\n",
      "Batch 29: Loss = 1.1492, Accuracy = 100.0%\n",
      "Batch 39: Loss = 1.2947, Accuracy = 100.0%\n",
      "Batch 49: Loss = 0.8233, Accuracy = 100.0%\n",
      "Batch 59: Loss = 0.9474, Accuracy = 100.0%\n",
      "Batch 69: Loss = 0.9842, Accuracy = 100.0%\n",
      "Batch 79: Loss = 0.8428, Accuracy = 100.0%\n",
      "Epoch 6 Test: Loss = 0.9716, Accuracy = 100.0%\n",
      "\n",
      "-- Epoch 7 of 29 --\n",
      "\n",
      "Batch 9: Loss = 1.0091, Accuracy = 100.0%\n",
      "Batch 19: Loss = 0.6906, Accuracy = 100.0%\n",
      "Batch 29: Loss = 0.5524, Accuracy = 100.0%\n",
      "Batch 39: Loss = 0.7016, Accuracy = 100.0%\n",
      "Batch 49: Loss = 0.6485, Accuracy = 100.0%\n",
      "Batch 59: Loss = 0.7235, Accuracy = 100.0%\n",
      "Batch 69: Loss = 0.5758, Accuracy = 100.0%\n",
      "Batch 79: Loss = 0.5959, Accuracy = 100.0%\n",
      "Epoch 7 Test: Loss = 0.6751, Accuracy = 100.0%\n",
      "\n",
      "-- Epoch 8 of 29 --\n",
      "\n",
      "Batch 9: Loss = 0.6041, Accuracy = 100.0%\n",
      "Batch 19: Loss = 0.4832, Accuracy = 100.0%\n",
      "Batch 29: Loss = 0.5032, Accuracy = 100.0%\n",
      "Batch 39: Loss = 0.4452, Accuracy = 100.0%\n",
      "Batch 49: Loss = 0.5304, Accuracy = 100.0%\n",
      "Batch 59: Loss = 0.5588, Accuracy = 100.0%\n",
      "Batch 69: Loss = 0.4560, Accuracy = 100.0%\n",
      "Batch 79: Loss = 0.4301, Accuracy = 100.0%\n",
      "Epoch 8 Test: Loss = 0.5167, Accuracy = 100.0%\n",
      "\n",
      "-- Epoch 9 of 29 --\n",
      "\n",
      "Batch 9: Loss = 0.3807, Accuracy = 100.0%\n",
      "Batch 19: Loss = 0.4432, Accuracy = 100.0%\n",
      "Batch 29: Loss = 0.4484, Accuracy = 100.0%\n",
      "Batch 39: Loss = 0.4294, Accuracy = 100.0%\n",
      "Batch 49: Loss = 0.4040, Accuracy = 100.0%\n",
      "Batch 59: Loss = 0.3864, Accuracy = 100.0%\n",
      "Batch 69: Loss = 0.3478, Accuracy = 100.0%\n",
      "Batch 79: Loss = 0.3330, Accuracy = 100.0%\n",
      "Epoch 9 Test: Loss = 0.4191, Accuracy = 100.0%\n"
     ]
    },
    {
     "data": {
      "text/plain": [
       "{'best_acc': 1.0, 'final_acc': 1.0}"
      ]
     },
     "execution_count": 3,
     "metadata": {},
     "output_type": "execute_result"
    }
   ],
   "source": [
    "task.run_experiment()"
   ]
  }
 ],
 "metadata": {
  "kernelspec": {
   "display_name": "Python 2",
   "language": "python",
   "name": "python2"
  },
  "language_info": {
   "codemirror_mode": {
    "name": "ipython",
    "version": 2
   },
   "file_extension": ".py",
   "mimetype": "text/x-python",
   "name": "python",
   "nbconvert_exporter": "python",
   "pygments_lexer": "ipython2",
   "version": "2.7.15"
  }
 },
 "nbformat": 4,
 "nbformat_minor": 2
}
