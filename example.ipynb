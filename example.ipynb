{
 "cells": [
  {
   "cell_type": "markdown",
   "metadata": {},
   "source": [
    "# StackNN from the Command Line\n",
    "\n",
    "It is possible to run pre-defined task configs from the command line. For example, to run a one-epoch reverse task:"
   ]
  },
  {
   "cell_type": "code",
   "execution_count": 7,
   "metadata": {
    "scrolled": true
   },
   "outputs": [
    {
     "name": "stdout",
     "output_type": "stream",
     "text": [
      "Loading quick_reverse_config\n",
      "Starting ReverseTask Experiment\n",
      "Model Type: VanillaModel\n",
      "Controller Type: LinearSimpleStructController\n",
      "Struct Type: Stack\n",
      "Learning Rate: 0.01\n",
      "Batch Size: 10\n",
      "Read Size: 2\n",
      "\n",
      "-- Epoch 0 of 0 --\n",
      "\n",
      "Batch 9: Loss = 20.6313, Accuracy = 55.2%\n",
      "Batch 19: Loss = 13.0112, Accuracy = 47.7%\n",
      "Batch 29: Loss = 14.3198, Accuracy = 45.4%\n",
      "Batch 39: Loss = 15.3742, Accuracy = 48.4%\n",
      "Batch 49: Loss = 12.8921, Accuracy = 50.6%\n",
      "Batch 59: Loss = 12.6204, Accuracy = 61.4%\n",
      "Batch 69: Loss = 13.9526, Accuracy = 50.5%\n",
      "Batch 79: Loss = 12.1988, Accuracy = 53.5%\n",
      "Epoch 0 Test: Loss = 13.7661, Accuracy = 50.6%\n"
     ]
    },
    {
     "name": "stderr",
     "output_type": "stream",
     "text": [
      "/Users/snorri/torch_stack/stacknn_utils/errors.py:22: RuntimeWarning: Parameter hidden_size is set to 10, but it is not used in LinearSimpleStructController.\n",
      "  warnings.warn(msg, RuntimeWarning)\n",
      "/Users/snorri/torch_stack/stacknn_utils/errors.py:22: RuntimeWarning: Parameter reg_weight is set to 1.0, but it is not used in LinearSimpleStructController.\n",
      "  warnings.warn(msg, RuntimeWarning)\n"
     ]
    }
   ],
   "source": [
    "%%bash\n",
    "python run.py quick_reverse_config"
   ]
  },
  {
   "cell_type": "markdown",
   "metadata": {},
   "source": [
    "See the section below for the Python side of things."
   ]
  },
  {
   "cell_type": "markdown",
   "metadata": {},
   "source": [
    "# StackNN Example Python Script\n",
    "\n",
    "Here's how to run a StackNN experiment. The ```tasks``` package has classes that contain code for running experiments on various tasks. The ```configs``` module contains some dicts with configurations for the tasks. Let's start by importing a task and a config dict."
   ]
  },
  {
   "cell_type": "code",
   "execution_count": 1,
   "metadata": {
    "collapsed": true
   },
   "outputs": [],
   "source": [
    "from tasks import Task\n",
    "from configs import final_reverse_config"
   ]
  },
  {
   "cell_type": "markdown",
   "metadata": {},
   "source": [
    "We can also change some of the other items in the config dict in order to customize the hyperparameters of the experiment. Then, we can create a task object from the dictionary of parameters as follows:"
   ]
  },
  {
   "cell_type": "code",
   "execution_count": 2,
   "metadata": {},
   "outputs": [
    {
     "name": "stderr",
     "output_type": "stream",
     "text": [
      "stacknn_utils/errors.py:22: RuntimeWarning: Parameter hidden_size is set to 10, but it is not used in LinearSimpleStructController.\n",
      "  warnings.warn(msg, RuntimeWarning)\n",
      "stacknn_utils/errors.py:22: RuntimeWarning: Parameter reg_weight is set to 1.0, but it is not used in LinearSimpleStructController.\n",
      "  warnings.warn(msg, RuntimeWarning)\n"
     ]
    }
   ],
   "source": [
    "final_reverse_config[\"epochs\"] = 30\n",
    "task = Task.from_config_dict(final_reverse_config)"
   ]
  },
  {
   "cell_type": "markdown",
   "metadata": {},
   "source": [
    "Now, just call ```run_experiment()```!"
   ]
  },
  {
   "cell_type": "code",
   "execution_count": 10,
   "metadata": {
    "scrolled": true
   },
   "outputs": [
    {
     "name": "stdout",
     "output_type": "stream",
     "text": [
      "Starting ReverseTask Experiment\n",
      "Model Type: VanillaModel\n",
      "Controller Type: LinearSimpleStructController\n",
      "Struct Type: Stack\n",
      "Learning Rate: 0.01\n",
      "Batch Size: 10\n",
      "Read Size: 2\n",
      "\n",
      "-- Epoch 0 of 29 --\n",
      "\n",
      "Batch 9: Loss = 14.6443, Accuracy = 48.4%\n",
      "Batch 19: Loss = 12.3344, Accuracy = 51.0%\n",
      "Batch 29: Loss = 14.0901, Accuracy = 40.4%\n",
      "Batch 39: Loss = 12.1862, Accuracy = 60.6%\n",
      "Batch 49: Loss = 12.8963, Accuracy = 45.1%\n",
      "Batch 59: Loss = 12.8915, Accuracy = 48.9%\n",
      "Batch 69: Loss = 12.0128, Accuracy = 51.5%\n",
      "Batch 79: Loss = 10.5471, Accuracy = 55.2%\n",
      "Epoch 0 Test: Loss = 13.4083, Accuracy = 50.5%\n",
      "\n",
      "-- Epoch 1 of 29 --\n",
      "\n",
      "Batch 9: Loss = 11.9937, Accuracy = 43.6%\n",
      "Batch 19: Loss = 13.3192, Accuracy = 51.6%\n",
      "Batch 29: Loss = 12.7712, Accuracy = 45.3%\n",
      "Batch 39: Loss = 12.0376, Accuracy = 48.5%\n",
      "Batch 49: Loss = 9.8005, Accuracy = 48.8%\n",
      "Batch 59: Loss = 9.7885, Accuracy = 51.4%\n",
      "Batch 69: Loss = 9.0562, Accuracy = 49.4%\n",
      "Batch 79: Loss = 13.2605, Accuracy = 53.8%\n",
      "Epoch 1 Test: Loss = 13.2585, Accuracy = 50.5%\n",
      "\n",
      "-- Epoch 2 of 29 --\n",
      "\n",
      "Batch 9: Loss = 11.1131, Accuracy = 46.7%\n",
      "Batch 19: Loss = 13.2024, Accuracy = 44.3%\n",
      "Batch 29: Loss = 11.9168, Accuracy = 45.3%\n",
      "Batch 39: Loss = 12.4914, Accuracy = 63.5%\n",
      "Batch 49: Loss = 12.5139, Accuracy = 50.0%\n",
      "Batch 59: Loss = 10.4488, Accuracy = 45.5%\n",
      "Batch 69: Loss = 11.8020, Accuracy = 49.5%\n",
      "Batch 79: Loss = 10.3410, Accuracy = 50.5%\n",
      "Epoch 2 Test: Loss = 13.0148, Accuracy = 50.5%\n",
      "\n",
      "-- Epoch 3 of 29 --\n",
      "\n",
      "Batch 9: Loss = 11.5122, Accuracy = 76.5%\n",
      "Batch 19: Loss = 11.3253, Accuracy = 72.3%\n",
      "Batch 29: Loss = 11.1277, Accuracy = 78.4%\n",
      "Batch 39: Loss = 10.4815, Accuracy = 95.8%\n",
      "Batch 49: Loss = 9.9099, Accuracy = 100.0%\n",
      "Batch 59: Loss = 9.4899, Accuracy = 100.0%\n",
      "Batch 69: Loss = 9.9317, Accuracy = 100.0%\n",
      "Batch 79: Loss = 8.2545, Accuracy = 100.0%\n",
      "Epoch 3 Test: Loss = 9.1307, Accuracy = 100.0%\n",
      "\n",
      "-- Epoch 4 of 29 --\n",
      "\n",
      "Batch 9: Loss = 8.7824, Accuracy = 100.0%\n",
      "Batch 19: Loss = 7.4389, Accuracy = 100.0%\n",
      "Batch 29: Loss = 5.3844, Accuracy = 100.0%\n",
      "Batch 39: Loss = 4.8517, Accuracy = 100.0%\n",
      "Batch 49: Loss = 4.0958, Accuracy = 100.0%\n",
      "Batch 59: Loss = 3.6407, Accuracy = 100.0%\n",
      "Batch 69: Loss = 3.9108, Accuracy = 100.0%\n",
      "Batch 79: Loss = 3.6669, Accuracy = 100.0%\n",
      "Epoch 4 Test: Loss = 3.5467, Accuracy = 100.0%\n",
      "\n",
      "-- Epoch 5 of 29 --\n",
      "\n",
      "Batch 9: Loss = 2.8736, Accuracy = 100.0%\n",
      "Batch 19: Loss = 2.8893, Accuracy = 100.0%\n",
      "Batch 29: Loss = 2.3570, Accuracy = 100.0%\n",
      "Batch 39: Loss = 2.1848, Accuracy = 100.0%\n",
      "Batch 49: Loss = 1.9376, Accuracy = 100.0%\n",
      "Batch 59: Loss = 1.5334, Accuracy = 100.0%\n",
      "Batch 69: Loss = 1.4777, Accuracy = 100.0%\n",
      "Batch 79: Loss = 1.6759, Accuracy = 100.0%\n",
      "Epoch 5 Test: Loss = 1.5784, Accuracy = 100.0%\n",
      "\n",
      "-- Epoch 6 of 29 --\n",
      "\n",
      "Batch 9: Loss = 1.2903, Accuracy = 100.0%\n",
      "Batch 19: Loss = 1.2809, Accuracy = 100.0%\n",
      "Batch 29: Loss = 1.0662, Accuracy = 100.0%\n",
      "Batch 39: Loss = 1.5085, Accuracy = 100.0%\n",
      "Batch 49: Loss = 0.9181, Accuracy = 100.0%\n",
      "Batch 59: Loss = 1.0368, Accuracy = 100.0%\n",
      "Batch 69: Loss = 0.7586, Accuracy = 100.0%\n",
      "Batch 79: Loss = 0.8559, Accuracy = 100.0%\n",
      "Epoch 6 Test: Loss = 0.9372, Accuracy = 100.0%\n",
      "\n",
      "-- Epoch 7 of 29 --\n",
      "\n",
      "Batch 9: Loss = 0.6286, Accuracy = 100.0%\n",
      "Batch 19: Loss = 0.6575, Accuracy = 100.0%\n",
      "Batch 29: Loss = 0.7971, Accuracy = 100.0%\n",
      "Batch 39: Loss = 0.7877, Accuracy = 100.0%\n",
      "Batch 49: Loss = 0.6239, Accuracy = 100.0%\n",
      "Batch 59: Loss = 0.6778, Accuracy = 100.0%\n",
      "Batch 69: Loss = 0.6803, Accuracy = 100.0%\n",
      "Batch 79: Loss = 0.6022, Accuracy = 100.0%\n",
      "Epoch 7 Test: Loss = 0.6484, Accuracy = 100.0%\n",
      "\n",
      "-- Epoch 8 of 29 --\n",
      "\n",
      "Batch 9: Loss = 0.6023, Accuracy = 100.0%\n",
      "Batch 19: Loss = 0.5522, Accuracy = 100.0%\n",
      "Batch 29: Loss = 0.5760, Accuracy = 100.0%\n",
      "Batch 39: Loss = 0.4917, Accuracy = 100.0%\n",
      "Batch 49: Loss = 0.6261, Accuracy = 100.0%\n",
      "Batch 59: Loss = 0.5631, Accuracy = 100.0%\n",
      "Batch 69: Loss = 0.4561, Accuracy = 100.0%\n",
      "Batch 79: Loss = 0.5334, Accuracy = 100.0%\n",
      "Epoch 8 Test: Loss = 0.4972, Accuracy = 100.0%\n"
     ]
    },
    {
     "data": {
      "text/plain": [
       "{'best_acc': 1.0, 'final_acc': 1.0}"
      ]
     },
     "execution_count": 10,
     "metadata": {},
     "output_type": "execute_result"
    }
   ],
   "source": [
    "task.run_experiment()"
   ]
  }
 ],
 "metadata": {
  "kernelspec": {
   "display_name": "Python 2",
   "language": "python",
   "name": "python2"
  },
  "language_info": {
   "codemirror_mode": {
    "name": "ipython",
    "version": 2
   },
   "file_extension": ".py",
   "mimetype": "text/x-python",
   "name": "python",
   "nbconvert_exporter": "python",
   "pygments_lexer": "ipython2",
   "version": "2.7.13"
  }
 },
 "nbformat": 4,
 "nbformat_minor": 2
}
